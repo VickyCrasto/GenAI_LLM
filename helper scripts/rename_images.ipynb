{
 "cells": [
  {
   "cell_type": "code",
   "execution_count": 6,
   "metadata": {},
   "outputs": [],
   "source": [
    "import os\n",
    "\n",
    "\n"
   ]
  },
  {
   "cell_type": "code",
   "execution_count": 2,
   "metadata": {},
   "outputs": [],
   "source": [
    "def rename_images(directory):\n",
    "    for filename in os.listdir(directory):\n",
    "        if filename.startswith(\"image\"):\n",
    "            number = filename[5:8]\n",
    "            new_name = f\"C1_{number}.png\"\n",
    "            os.rename(os.path.join(directory, filename), os.path.join(directory, new_name))\n",
    "            print(f\"Renamed {filename} to {new_name}\")\n",
    "\n"
   ]
  },
  {
   "cell_type": "code",
   "execution_count": 3,
   "metadata": {},
   "outputs": [],
   "source": [
    "# Specify the directory containing the images\n",
    "directory = r'C:\\Users\\Vicky.Crasto\\OneDrive - Unilever\\Work_file_082021\\04_Learning\\Github_IBM_GenAI\\GitRepo\\images\\C1'\n",
    "\n"
   ]
  },
  {
   "cell_type": "code",
   "execution_count": 4,
   "metadata": {},
   "outputs": [
    {
     "data": {
      "text/plain": [
       "['image002.png',\n",
       " 'image004.png',\n",
       " 'image006.png',\n",
       " 'image008.png',\n",
       " 'image010.png',\n",
       " 'image012.png',\n",
       " 'image014.png',\n",
       " 'image016.png',\n",
       " 'image018.png',\n",
       " 'image020.png',\n",
       " 'image022.png',\n",
       " 'image024.png',\n",
       " 'image026.png',\n",
       " 'image028.png',\n",
       " 'image030.png',\n",
       " 'image032.png',\n",
       " 'image034.png',\n",
       " 'image036.png',\n",
       " 'image038.png',\n",
       " 'image040.png',\n",
       " 'image042.png',\n",
       " 'image044.png',\n",
       " 'image046.png',\n",
       " 'image048.png',\n",
       " 'image050.png',\n",
       " 'image052.png',\n",
       " 'image054.png',\n",
       " 'image056.png',\n",
       " 'image058.png',\n",
       " 'image060.png',\n",
       " 'image062.png',\n",
       " 'image064.png',\n",
       " 'image066.png',\n",
       " 'image068.png',\n",
       " 'image070.png',\n",
       " 'image072.png',\n",
       " 'image074.png',\n",
       " 'image076.png',\n",
       " 'image078.png',\n",
       " 'image080.png',\n",
       " 'image082.png']"
      ]
     },
     "execution_count": 4,
     "metadata": {},
     "output_type": "execute_result"
    }
   ],
   "source": [
    "os.listdir(directory)"
   ]
  },
  {
   "cell_type": "code",
   "execution_count": 5,
   "metadata": {},
   "outputs": [
    {
     "name": "stdout",
     "output_type": "stream",
     "text": [
      "Renamed image002.png to C1_002.png\n",
      "Renamed image004.png to C1_004.png\n",
      "Renamed image006.png to C1_006.png\n",
      "Renamed image008.png to C1_008.png\n",
      "Renamed image010.png to C1_010.png\n",
      "Renamed image012.png to C1_012.png\n",
      "Renamed image014.png to C1_014.png\n",
      "Renamed image016.png to C1_016.png\n",
      "Renamed image018.png to C1_018.png\n",
      "Renamed image020.png to C1_020.png\n",
      "Renamed image022.png to C1_022.png\n",
      "Renamed image024.png to C1_024.png\n",
      "Renamed image026.png to C1_026.png\n",
      "Renamed image028.png to C1_028.png\n",
      "Renamed image030.png to C1_030.png\n",
      "Renamed image032.png to C1_032.png\n",
      "Renamed image034.png to C1_034.png\n",
      "Renamed image036.png to C1_036.png\n",
      "Renamed image038.png to C1_038.png\n",
      "Renamed image040.png to C1_040.png\n",
      "Renamed image042.png to C1_042.png\n",
      "Renamed image044.png to C1_044.png\n",
      "Renamed image046.png to C1_046.png\n",
      "Renamed image048.png to C1_048.png\n",
      "Renamed image050.png to C1_050.png\n",
      "Renamed image052.png to C1_052.png\n",
      "Renamed image054.png to C1_054.png\n",
      "Renamed image056.png to C1_056.png\n",
      "Renamed image058.png to C1_058.png\n",
      "Renamed image060.png to C1_060.png\n",
      "Renamed image062.png to C1_062.png\n",
      "Renamed image064.png to C1_064.png\n",
      "Renamed image066.png to C1_066.png\n",
      "Renamed image068.png to C1_068.png\n",
      "Renamed image070.png to C1_070.png\n",
      "Renamed image072.png to C1_072.png\n",
      "Renamed image074.png to C1_074.png\n",
      "Renamed image076.png to C1_076.png\n",
      "Renamed image078.png to C1_078.png\n",
      "Renamed image080.png to C1_080.png\n",
      "Renamed image082.png to C1_082.png\n"
     ]
    }
   ],
   "source": [
    "# Call the function to rename images\n",
    "rename_images(directory)"
   ]
  },
  {
   "cell_type": "code",
   "execution_count": 9,
   "metadata": {},
   "outputs": [
    {
     "name": "stdout",
     "output_type": "stream",
     "text": [
      "01_Architecture_and_Data_Preparation/1.1_Introduction_to_GenerativeAI.md)\n",
      "01_Architecture_and_Data_Preparation/1.2_ GenAI_ Architecture_and_Models.md)\n",
      "01_Architecture_and_Data_Preparation/1.3_GenerativeAI_for_NLP.md)\n",
      "01_Architecture_and_Data_Preparation/1.4_Basics_of_AI_Hallucinations.pdf)\n",
      "01_Architecture_and_Data_Preparation/1.5_Overview_of_Libraries_and_Tools.pdf)\n"
     ]
    }
   ],
   "source": [
    "directory1 = r'C:\\Users\\Vicky.Crasto\\OneDrive - Unilever\\Work_file_082021\\04_Learning\\Github_IBM_GenAI\\GitRepo\\posts\\01_Architecture_and_Data_Preparation'\n",
    "\n",
    "for filename in os.listdir(directory1):\n",
    "    print(\"01_Architecture_and_Data_Preparation/\" + filename +\")\")"
   ]
  }
 ],
 "metadata": {
  "kernelspec": {
   "display_name": "Python 3",
   "language": "python",
   "name": "python3"
  },
  "language_info": {
   "codemirror_mode": {
    "name": "ipython",
    "version": 3
   },
   "file_extension": ".py",
   "mimetype": "text/x-python",
   "name": "python",
   "nbconvert_exporter": "python",
   "pygments_lexer": "ipython3",
   "version": "3.10.5"
  }
 },
 "nbformat": 4,
 "nbformat_minor": 2
}
